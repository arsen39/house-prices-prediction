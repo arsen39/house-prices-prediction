{
 "cells": [
  {
   "cell_type": "code",
   "execution_count": 1,
   "metadata": {},
   "outputs": [],
   "source": [
    "import pandas as pd\n",
    "import numpy as np\n",
    "import missingno as msno\n",
    "from sklearn.preprocessing import LabelEncoder\n",
    "from sklearn.ensemble import IsolationForest\n",
    "\n",
    "# Read data from dataset\n",
    "data = pd.read_csv('train.csv')\n",
    "data = data.drop('Id', axis=1)\n",
    "\n",
    "# Encode categorical features\n",
    "object_cols = data.select_dtypes(include='object').columns.tolist()\n",
    "for feature in object_cols:\n",
    "    le = LabelEncoder()\n",
    "    data[feature] = le.fit_transform(data[feature])\n",
    "\n",
    "# Check missing values\n",
    "nullCols = pd.DataFrame(data.isnull().sum())\n",
    "for col in nullCols.index:\n",
    "    if nullCols.loc[col][0] > 0:\n",
    "        data[col]  = data[col].fillna(data[col].median())\n",
    "\n",
    "# Check outliers\n",
    "iso_forest = IsolationForest(n_estimators=500, contamination=0.01)\n",
    "for feature in data.columns:\n",
    "    iso_forest.fit(data[feature].values.reshape(-1, 1))\n",
    "    mask = iso_forest.predict(data[feature].values.reshape(-1, 1)) == -1\n",
    "    data.loc[mask, feature] = data[feature].median()\n"
   ]
  },
  {
   "cell_type": "code",
   "execution_count": 2,
   "metadata": {},
   "outputs": [],
   "source": [
    "import matplotlib.pyplot as plt\n",
    "from sklearn.preprocessing import MinMaxScaler\n",
    "\n",
    "# Correlation matrix\n",
    "corr_matrix = data.corr()\n",
    "corr_values = corr_matrix['SalePrice'].sort_values(ascending=False)\n",
    "\n",
    "X_train = data.copy()\n",
    "\n",
    "# Drop features with correlation less than 0.5\n",
    "for i in corr_values.index:\n",
    "    if corr_values[i] > -0.25 and corr_values[i] < 0.25:\n",
    "        X_train.drop(i, axis=1, inplace=True)  \n",
    "\n",
    "y_train = data['SalePrice']\n",
    "X_train.drop('SalePrice', axis=1, inplace=True)\n",
    "\n",
    "# Scale data\n",
    "xscaler = MinMaxScaler(feature_range=(-1, 1))\n",
    "yscaler = MinMaxScaler(feature_range=(-1, 1))\n",
    "\n",
    "X_train = xscaler.fit_transform(X_train)\n",
    "\n",
    "y_train = y_train.values.reshape(-1, 1)\n",
    "y_train = yscaler.fit_transform(y_train)"
   ]
  },
  {
   "cell_type": "code",
   "execution_count": 30,
   "metadata": {},
   "outputs": [
    {
     "data": {
      "text/html": [
       "<style>#sk-container-id-7 {color: black;background-color: white;}#sk-container-id-7 pre{padding: 0;}#sk-container-id-7 div.sk-toggleable {background-color: white;}#sk-container-id-7 label.sk-toggleable__label {cursor: pointer;display: block;width: 100%;margin-bottom: 0;padding: 0.3em;box-sizing: border-box;text-align: center;}#sk-container-id-7 label.sk-toggleable__label-arrow:before {content: \"▸\";float: left;margin-right: 0.25em;color: #696969;}#sk-container-id-7 label.sk-toggleable__label-arrow:hover:before {color: black;}#sk-container-id-7 div.sk-estimator:hover label.sk-toggleable__label-arrow:before {color: black;}#sk-container-id-7 div.sk-toggleable__content {max-height: 0;max-width: 0;overflow: hidden;text-align: left;background-color: #f0f8ff;}#sk-container-id-7 div.sk-toggleable__content pre {margin: 0.2em;color: black;border-radius: 0.25em;background-color: #f0f8ff;}#sk-container-id-7 input.sk-toggleable__control:checked~div.sk-toggleable__content {max-height: 200px;max-width: 100%;overflow: auto;}#sk-container-id-7 input.sk-toggleable__control:checked~label.sk-toggleable__label-arrow:before {content: \"▾\";}#sk-container-id-7 div.sk-estimator input.sk-toggleable__control:checked~label.sk-toggleable__label {background-color: #d4ebff;}#sk-container-id-7 div.sk-label input.sk-toggleable__control:checked~label.sk-toggleable__label {background-color: #d4ebff;}#sk-container-id-7 input.sk-hidden--visually {border: 0;clip: rect(1px 1px 1px 1px);clip: rect(1px, 1px, 1px, 1px);height: 1px;margin: -1px;overflow: hidden;padding: 0;position: absolute;width: 1px;}#sk-container-id-7 div.sk-estimator {font-family: monospace;background-color: #f0f8ff;border: 1px dotted black;border-radius: 0.25em;box-sizing: border-box;margin-bottom: 0.5em;}#sk-container-id-7 div.sk-estimator:hover {background-color: #d4ebff;}#sk-container-id-7 div.sk-parallel-item::after {content: \"\";width: 100%;border-bottom: 1px solid gray;flex-grow: 1;}#sk-container-id-7 div.sk-label:hover label.sk-toggleable__label {background-color: #d4ebff;}#sk-container-id-7 div.sk-serial::before {content: \"\";position: absolute;border-left: 1px solid gray;box-sizing: border-box;top: 0;bottom: 0;left: 50%;z-index: 0;}#sk-container-id-7 div.sk-serial {display: flex;flex-direction: column;align-items: center;background-color: white;padding-right: 0.2em;padding-left: 0.2em;position: relative;}#sk-container-id-7 div.sk-item {position: relative;z-index: 1;}#sk-container-id-7 div.sk-parallel {display: flex;align-items: stretch;justify-content: center;background-color: white;position: relative;}#sk-container-id-7 div.sk-item::before, #sk-container-id-7 div.sk-parallel-item::before {content: \"\";position: absolute;border-left: 1px solid gray;box-sizing: border-box;top: 0;bottom: 0;left: 50%;z-index: -1;}#sk-container-id-7 div.sk-parallel-item {display: flex;flex-direction: column;z-index: 1;position: relative;background-color: white;}#sk-container-id-7 div.sk-parallel-item:first-child::after {align-self: flex-end;width: 50%;}#sk-container-id-7 div.sk-parallel-item:last-child::after {align-self: flex-start;width: 50%;}#sk-container-id-7 div.sk-parallel-item:only-child::after {width: 0;}#sk-container-id-7 div.sk-dashed-wrapped {border: 1px dashed gray;margin: 0 0.4em 0.5em 0.4em;box-sizing: border-box;padding-bottom: 0.4em;background-color: white;}#sk-container-id-7 div.sk-label label {font-family: monospace;font-weight: bold;display: inline-block;line-height: 1.2em;}#sk-container-id-7 div.sk-label-container {text-align: center;}#sk-container-id-7 div.sk-container {/* jupyter's `normalize.less` sets `[hidden] { display: none; }` but bootstrap.min.css set `[hidden] { display: none !important; }` so we also need the `!important` here to be able to override the default hidden behavior on the sphinx rendered scikit-learn.org. See: https://github.com/scikit-learn/scikit-learn/issues/21755 */display: inline-block !important;position: relative;}#sk-container-id-7 div.sk-text-repr-fallback {display: none;}</style><div id=\"sk-container-id-7\" class=\"sk-top-container\"><div class=\"sk-text-repr-fallback\"><pre>ElasticNet()</pre><b>In a Jupyter environment, please rerun this cell to show the HTML representation or trust the notebook. <br />On GitHub, the HTML representation is unable to render, please try loading this page with nbviewer.org.</b></div><div class=\"sk-container\" hidden><div class=\"sk-item\"><div class=\"sk-estimator sk-toggleable\"><input class=\"sk-toggleable__control sk-hidden--visually\" id=\"sk-estimator-id-7\" type=\"checkbox\" checked><label for=\"sk-estimator-id-7\" class=\"sk-toggleable__label sk-toggleable__label-arrow\">ElasticNet</label><div class=\"sk-toggleable__content\"><pre>ElasticNet()</pre></div></div></div></div></div>"
      ],
      "text/plain": [
       "ElasticNet()"
      ]
     },
     "execution_count": 30,
     "metadata": {},
     "output_type": "execute_result"
    }
   ],
   "source": [
    "from sklearn.linear_model import Ridge, ElasticNet\n",
    "\n",
    "# Choose and train model\n",
    "ridge = ElasticNet()\n",
    "ridge.fit(X_train, y_train)"
   ]
  },
  {
   "cell_type": "code",
   "execution_count": 31,
   "metadata": {},
   "outputs": [
    {
     "name": "stdout",
     "output_type": "stream",
     "text": [
      "MSE:  0.11359729437272961\n",
      "MSE:  4868.706269572158\n"
     ]
    }
   ],
   "source": [
    "from sklearn.metrics import mean_squared_error\n",
    "\n",
    "# Predict and evaluate\n",
    "y_pred = ridge.predict(X_train)\n",
    "\n",
    "print('MSE: ', mean_squared_error(y_train, y_pred))\n",
    "\n",
    "y_predE = yscaler.inverse_transform(np.array([y_pred]))\n",
    "y_trainE = yscaler.inverse_transform(y_train) \n",
    "\n",
    "print('MSE: ', mean_squared_error(y_trainE, y_predE[0])/1e6)\n",
    "\n"
   ]
  },
  {
   "cell_type": "code",
   "execution_count": 5,
   "metadata": {},
   "outputs": [],
   "source": [
    "# Predict test data\n",
    "data_test = pd.read_csv('test.csv')\n",
    "data_test = data_test.drop('Id', axis=1)\n",
    "data_test_benchmark = pd.read_csv('sample_submission.csv')\n",
    "\n",
    "object_cols = data_test.select_dtypes(include='object').columns.tolist()\n",
    "for feature in object_cols:\n",
    "    le = LabelEncoder()\n",
    "    data_test[feature] = le.fit_transform(data_test[feature])\n",
    "\n",
    "nullCols = pd.DataFrame(data_test.isnull().sum())\n",
    "for col in nullCols.index:\n",
    "    if nullCols.loc[col][0] > 0:\n",
    "        data_test[col]  = data_test[col].fillna(data_test[col].median())        \n",
    "\n",
    "iso_forest = IsolationForest(n_estimators=500, contamination=0.01)\n",
    "\n",
    "for feature in data_test.columns:\n",
    "    iso_forest.fit(data_test[feature].values.reshape(-1, 1))\n",
    "    mask = iso_forest.predict(data_test[feature].values.reshape(-1, 1)) == -1\n",
    "    data_test.loc[mask, feature] = data_test[feature].median()"
   ]
  },
  {
   "cell_type": "code",
   "execution_count": 32,
   "metadata": {},
   "outputs": [],
   "source": [
    "X_test = data_test.copy()\n",
    "y_test = data_test_benchmark['SalePrice']\n",
    "\n",
    "for i in corr_values.index:\n",
    "    if corr_values[i] > -0.25 and corr_values[i] < 0.25:\n",
    "        X_test.drop(i, axis=1, inplace=True)\n",
    "\n",
    "X_test = xscaler.fit_transform(X_test)"
   ]
  },
  {
   "cell_type": "code",
   "execution_count": 33,
   "metadata": {},
   "outputs": [
    {
     "name": "stdout",
     "output_type": "stream",
     "text": [
      "MSE:  275.48625541774044\n"
     ]
    }
   ],
   "source": [
    "ppred = ridge.predict(X_test)\n",
    "ppred = yscaler.inverse_transform(np.array([ppred]))\n",
    "\n",
    "print('MSE: ', mean_squared_error(y_test, ppred[0])/1e6)"
   ]
  }
 ],
 "metadata": {
  "kernelspec": {
   "display_name": "MLRoot",
   "language": "python",
   "name": "python3"
  },
  "language_info": {
   "codemirror_mode": {
    "name": "ipython",
    "version": 3
   },
   "file_extension": ".py",
   "mimetype": "text/x-python",
   "name": "python",
   "nbconvert_exporter": "python",
   "pygments_lexer": "ipython3",
   "version": "3.9.16"
  },
  "orig_nbformat": 4
 },
 "nbformat": 4,
 "nbformat_minor": 2
}
